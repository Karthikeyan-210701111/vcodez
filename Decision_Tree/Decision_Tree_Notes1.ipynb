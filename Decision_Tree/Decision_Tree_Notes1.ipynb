{
  "cells": [
    {
      "cell_type": "markdown",
      "metadata": {
        "id": "UDdCH6lru9sU"
      },
      "source": [
        "\n",
        "# Decision Tree Classifier\n",
        "\n"
      ]
    },
    {
      "cell_type": "markdown",
      "metadata": {
        "id": "r7SH1ew0u9sd"
      },
      "source": [
        "# Import Necessary libraries"
      ]
    },
    {
      "cell_type": "code",
      "execution_count": null,
      "metadata": {
        "id": "ULuSHHXhu9se"
      },
      "outputs": [],
      "source": [
        "import numpy as np\n",
        "import pandas as pd\n",
        "import matplotlib.pyplot as plt\n",
        "import seaborn as sn\n",
        "import warnings\n",
        "warnings.filterwarnings('ignore')"
      ]
    },
    {
      "cell_type": "code",
      "execution_count": null,
      "metadata": {
        "scrolled": true,
        "id": "geBvKgViu9sh",
        "outputId": "ee8cb8ec-cb19-4fc8-93fc-a947ea90e478"
      },
      "outputs": [
        {
          "data": {
            "text/html": [
              "<div>\n",
              "<style scoped>\n",
              "    .dataframe tbody tr th:only-of-type {\n",
              "        vertical-align: middle;\n",
              "    }\n",
              "\n",
              "    .dataframe tbody tr th {\n",
              "        vertical-align: top;\n",
              "    }\n",
              "\n",
              "    .dataframe thead th {\n",
              "        text-align: right;\n",
              "    }\n",
              "</style>\n",
              "<table border=\"1\" class=\"dataframe\">\n",
              "  <thead>\n",
              "    <tr style=\"text-align: right;\">\n",
              "      <th></th>\n",
              "      <th>buying</th>\n",
              "      <th>maint</th>\n",
              "      <th>doors</th>\n",
              "      <th>persons</th>\n",
              "      <th>lug_boot</th>\n",
              "      <th>safety</th>\n",
              "      <th>class</th>\n",
              "    </tr>\n",
              "  </thead>\n",
              "  <tbody>\n",
              "    <tr>\n",
              "      <th>0</th>\n",
              "      <td>vhigh</td>\n",
              "      <td>vhigh</td>\n",
              "      <td>2</td>\n",
              "      <td>2</td>\n",
              "      <td>small</td>\n",
              "      <td>med</td>\n",
              "      <td>unacc</td>\n",
              "    </tr>\n",
              "    <tr>\n",
              "      <th>1</th>\n",
              "      <td>vhigh</td>\n",
              "      <td>vhigh</td>\n",
              "      <td>2</td>\n",
              "      <td>2</td>\n",
              "      <td>small</td>\n",
              "      <td>high</td>\n",
              "      <td>unacc</td>\n",
              "    </tr>\n",
              "    <tr>\n",
              "      <th>2</th>\n",
              "      <td>vhigh</td>\n",
              "      <td>vhigh</td>\n",
              "      <td>2</td>\n",
              "      <td>2</td>\n",
              "      <td>med</td>\n",
              "      <td>low</td>\n",
              "      <td>unacc</td>\n",
              "    </tr>\n",
              "    <tr>\n",
              "      <th>3</th>\n",
              "      <td>vhigh</td>\n",
              "      <td>vhigh</td>\n",
              "      <td>2</td>\n",
              "      <td>2</td>\n",
              "      <td>med</td>\n",
              "      <td>med</td>\n",
              "      <td>unacc</td>\n",
              "    </tr>\n",
              "    <tr>\n",
              "      <th>4</th>\n",
              "      <td>vhigh</td>\n",
              "      <td>vhigh</td>\n",
              "      <td>2</td>\n",
              "      <td>2</td>\n",
              "      <td>med</td>\n",
              "      <td>high</td>\n",
              "      <td>unacc</td>\n",
              "    </tr>\n",
              "    <tr>\n",
              "      <th>...</th>\n",
              "      <td>...</td>\n",
              "      <td>...</td>\n",
              "      <td>...</td>\n",
              "      <td>...</td>\n",
              "      <td>...</td>\n",
              "      <td>...</td>\n",
              "      <td>...</td>\n",
              "    </tr>\n",
              "    <tr>\n",
              "      <th>1722</th>\n",
              "      <td>low</td>\n",
              "      <td>low</td>\n",
              "      <td>5more</td>\n",
              "      <td>more</td>\n",
              "      <td>med</td>\n",
              "      <td>med</td>\n",
              "      <td>good</td>\n",
              "    </tr>\n",
              "    <tr>\n",
              "      <th>1723</th>\n",
              "      <td>low</td>\n",
              "      <td>low</td>\n",
              "      <td>5more</td>\n",
              "      <td>more</td>\n",
              "      <td>med</td>\n",
              "      <td>high</td>\n",
              "      <td>vgood</td>\n",
              "    </tr>\n",
              "    <tr>\n",
              "      <th>1724</th>\n",
              "      <td>low</td>\n",
              "      <td>low</td>\n",
              "      <td>5more</td>\n",
              "      <td>more</td>\n",
              "      <td>big</td>\n",
              "      <td>low</td>\n",
              "      <td>unacc</td>\n",
              "    </tr>\n",
              "    <tr>\n",
              "      <th>1725</th>\n",
              "      <td>low</td>\n",
              "      <td>low</td>\n",
              "      <td>5more</td>\n",
              "      <td>more</td>\n",
              "      <td>big</td>\n",
              "      <td>med</td>\n",
              "      <td>good</td>\n",
              "    </tr>\n",
              "    <tr>\n",
              "      <th>1726</th>\n",
              "      <td>low</td>\n",
              "      <td>low</td>\n",
              "      <td>5more</td>\n",
              "      <td>more</td>\n",
              "      <td>big</td>\n",
              "      <td>high</td>\n",
              "      <td>vgood</td>\n",
              "    </tr>\n",
              "  </tbody>\n",
              "</table>\n",
              "<p>1727 rows × 7 columns</p>\n",
              "</div>"
            ],
            "text/plain": [
              "     buying  maint  doors persons lug_boot safety  class\n",
              "0     vhigh  vhigh      2       2    small    med  unacc\n",
              "1     vhigh  vhigh      2       2    small   high  unacc\n",
              "2     vhigh  vhigh      2       2      med    low  unacc\n",
              "3     vhigh  vhigh      2       2      med    med  unacc\n",
              "4     vhigh  vhigh      2       2      med   high  unacc\n",
              "...     ...    ...    ...     ...      ...    ...    ...\n",
              "1722    low    low  5more    more      med    med   good\n",
              "1723    low    low  5more    more      med   high  vgood\n",
              "1724    low    low  5more    more      big    low  unacc\n",
              "1725    low    low  5more    more      big    med   good\n",
              "1726    low    low  5more    more      big   high  vgood\n",
              "\n",
              "[1727 rows x 7 columns]"
            ]
          },
          "execution_count": 12,
          "metadata": {},
          "output_type": "execute_result"
        }
      ],
      "source": [
        "df = pd.read_csv( 'car_acceptability.csv')\n",
        "df"
      ]
    },
    {
      "cell_type": "markdown",
      "metadata": {
        "id": "ns9RLedDu9sj"
      },
      "source": [
        "# Exploratory data analysis"
      ]
    },
    {
      "cell_type": "code",
      "execution_count": null,
      "metadata": {
        "id": "8e7GPd07u9sk",
        "outputId": "c93330be-09b3-4d61-8a75-4197d537c56c"
      },
      "outputs": [
        {
          "data": {
            "text/plain": [
              "(1727, 7)"
            ]
          },
          "execution_count": 14,
          "metadata": {},
          "output_type": "execute_result"
        }
      ],
      "source": [
        "df.shape"
      ]
    },
    {
      "cell_type": "code",
      "execution_count": null,
      "metadata": {
        "id": "e7u5ZBrmu9sl",
        "outputId": "dc2ebdb7-fae3-4da2-9e78-6153c9e089d3"
      },
      "outputs": [
        {
          "name": "stdout",
          "output_type": "stream",
          "text": [
            "<class 'pandas.core.frame.DataFrame'>\n",
            "RangeIndex: 1727 entries, 0 to 1726\n",
            "Data columns (total 7 columns):\n",
            " #   Column    Non-Null Count  Dtype \n",
            "---  ------    --------------  ----- \n",
            " 0   buying    1727 non-null   object\n",
            " 1   maint     1727 non-null   object\n",
            " 2   doors     1727 non-null   object\n",
            " 3   persons   1727 non-null   object\n",
            " 4   lug_boot  1727 non-null   object\n",
            " 5   safety    1727 non-null   object\n",
            " 6   class     1727 non-null   object\n",
            "dtypes: object(7)\n",
            "memory usage: 94.6+ KB\n"
          ]
        }
      ],
      "source": [
        "df.info()"
      ]
    },
    {
      "cell_type": "markdown",
      "metadata": {
        "id": "sVZ3zXO2u9sm"
      },
      "source": [
        "### View top 5 rows of dataset"
      ]
    },
    {
      "cell_type": "code",
      "execution_count": null,
      "metadata": {
        "id": "YKoGwci-u9sn",
        "outputId": "1be77169-5f01-440f-d606-309e456da6f0"
      },
      "outputs": [
        {
          "data": {
            "text/html": [
              "<div>\n",
              "<style scoped>\n",
              "    .dataframe tbody tr th:only-of-type {\n",
              "        vertical-align: middle;\n",
              "    }\n",
              "\n",
              "    .dataframe tbody tr th {\n",
              "        vertical-align: top;\n",
              "    }\n",
              "\n",
              "    .dataframe thead th {\n",
              "        text-align: right;\n",
              "    }\n",
              "</style>\n",
              "<table border=\"1\" class=\"dataframe\">\n",
              "  <thead>\n",
              "    <tr style=\"text-align: right;\">\n",
              "      <th></th>\n",
              "      <th>buying</th>\n",
              "      <th>maint</th>\n",
              "      <th>doors</th>\n",
              "      <th>persons</th>\n",
              "      <th>lug_boot</th>\n",
              "      <th>safety</th>\n",
              "      <th>class</th>\n",
              "    </tr>\n",
              "  </thead>\n",
              "  <tbody>\n",
              "    <tr>\n",
              "      <th>0</th>\n",
              "      <td>vhigh</td>\n",
              "      <td>vhigh</td>\n",
              "      <td>2</td>\n",
              "      <td>2</td>\n",
              "      <td>small</td>\n",
              "      <td>med</td>\n",
              "      <td>unacc</td>\n",
              "    </tr>\n",
              "    <tr>\n",
              "      <th>1</th>\n",
              "      <td>vhigh</td>\n",
              "      <td>vhigh</td>\n",
              "      <td>2</td>\n",
              "      <td>2</td>\n",
              "      <td>small</td>\n",
              "      <td>high</td>\n",
              "      <td>unacc</td>\n",
              "    </tr>\n",
              "    <tr>\n",
              "      <th>2</th>\n",
              "      <td>vhigh</td>\n",
              "      <td>vhigh</td>\n",
              "      <td>2</td>\n",
              "      <td>2</td>\n",
              "      <td>med</td>\n",
              "      <td>low</td>\n",
              "      <td>unacc</td>\n",
              "    </tr>\n",
              "    <tr>\n",
              "      <th>3</th>\n",
              "      <td>vhigh</td>\n",
              "      <td>vhigh</td>\n",
              "      <td>2</td>\n",
              "      <td>2</td>\n",
              "      <td>med</td>\n",
              "      <td>med</td>\n",
              "      <td>unacc</td>\n",
              "    </tr>\n",
              "    <tr>\n",
              "      <th>4</th>\n",
              "      <td>vhigh</td>\n",
              "      <td>vhigh</td>\n",
              "      <td>2</td>\n",
              "      <td>2</td>\n",
              "      <td>med</td>\n",
              "      <td>high</td>\n",
              "      <td>unacc</td>\n",
              "    </tr>\n",
              "  </tbody>\n",
              "</table>\n",
              "</div>"
            ],
            "text/plain": [
              "  buying  maint doors persons lug_boot safety  class\n",
              "0  vhigh  vhigh     2       2    small    med  unacc\n",
              "1  vhigh  vhigh     2       2    small   high  unacc\n",
              "2  vhigh  vhigh     2       2      med    low  unacc\n",
              "3  vhigh  vhigh     2       2      med    med  unacc\n",
              "4  vhigh  vhigh     2       2      med   high  unacc"
            ]
          },
          "execution_count": 17,
          "metadata": {},
          "output_type": "execute_result"
        }
      ],
      "source": [
        "df.head()"
      ]
    },
    {
      "cell_type": "markdown",
      "metadata": {
        "id": "6J-KLOBPu9so"
      },
      "source": [
        "### View summary of dataset"
      ]
    },
    {
      "cell_type": "code",
      "execution_count": null,
      "metadata": {
        "id": "BlmZCz2Vu9so",
        "outputId": "e68373b8-4cb0-453c-b312-559a3232c544"
      },
      "outputs": [
        {
          "name": "stdout",
          "output_type": "stream",
          "text": [
            "<class 'pandas.core.frame.DataFrame'>\n",
            "RangeIndex: 1727 entries, 0 to 1726\n",
            "Data columns (total 7 columns):\n",
            " #   Column    Non-Null Count  Dtype \n",
            "---  ------    --------------  ----- \n",
            " 0   buying    1727 non-null   object\n",
            " 1   maint     1727 non-null   object\n",
            " 2   doors     1727 non-null   object\n",
            " 3   persons   1727 non-null   object\n",
            " 4   lug_boot  1727 non-null   object\n",
            " 5   safety    1727 non-null   object\n",
            " 6   class     1727 non-null   object\n",
            "dtypes: object(7)\n",
            "memory usage: 94.6+ KB\n"
          ]
        }
      ],
      "source": [
        "df.info()"
      ]
    },
    {
      "cell_type": "markdown",
      "metadata": {
        "id": "uWxSHbOdu9sp"
      },
      "source": [
        "### Frequency distribution of values in variables"
      ]
    },
    {
      "cell_type": "code",
      "execution_count": null,
      "metadata": {
        "id": "hgMCKw3qu9sp",
        "outputId": "3d6c85de-30b2-4bde-de5e-971406b4d362"
      },
      "outputs": [
        {
          "name": "stdout",
          "output_type": "stream",
          "text": [
            "buying\n",
            "high     432\n",
            "med      432\n",
            "low      432\n",
            "vhigh    431\n",
            "Name: count, dtype: int64\n",
            "****************\n",
            "maint\n",
            "high     432\n",
            "med      432\n",
            "low      432\n",
            "vhigh    431\n",
            "Name: count, dtype: int64\n",
            "****************\n",
            "doors\n",
            "3        432\n",
            "4        432\n",
            "5more    432\n",
            "2        431\n",
            "Name: count, dtype: int64\n",
            "****************\n",
            "persons\n",
            "4       576\n",
            "more    576\n",
            "2       575\n",
            "Name: count, dtype: int64\n",
            "****************\n",
            "lug_boot\n",
            "med      576\n",
            "big      576\n",
            "small    575\n",
            "Name: count, dtype: int64\n",
            "****************\n",
            "safety\n",
            "med     576\n",
            "high    576\n",
            "low     575\n",
            "Name: count, dtype: int64\n",
            "****************\n",
            "class\n",
            "unacc    1209\n",
            "acc       384\n",
            "good       69\n",
            "vgood      65\n",
            "Name: count, dtype: int64\n",
            "****************\n"
          ]
        }
      ],
      "source": [
        "for col in df.columns:\n",
        "    print(df[col].value_counts())\n",
        "    print('****************')\n"
      ]
    },
    {
      "cell_type": "code",
      "execution_count": null,
      "metadata": {
        "id": "i3HJVJgtu9sq",
        "outputId": "e6e3aaba-75c4-41eb-bf37-45367bbe2f4c"
      },
      "outputs": [
        {
          "data": {
            "text/plain": [
              "class\n",
              "unacc    1209\n",
              "acc       384\n",
              "good       69\n",
              "vgood      65\n",
              "Name: count, dtype: int64"
            ]
          },
          "execution_count": 22,
          "metadata": {},
          "output_type": "execute_result"
        }
      ],
      "source": [
        "df['class'].value_counts()"
      ]
    },
    {
      "cell_type": "markdown",
      "metadata": {
        "id": "ze5q6E_1u9sr"
      },
      "source": [
        "### Missing values in variables"
      ]
    },
    {
      "cell_type": "code",
      "execution_count": null,
      "metadata": {
        "id": "BXOSLosKu9sr",
        "outputId": "8930d821-69a4-450e-cbe0-dd802833536e"
      },
      "outputs": [
        {
          "data": {
            "text/plain": [
              "buying      0\n",
              "maint       0\n",
              "doors       0\n",
              "persons     0\n",
              "lug_boot    0\n",
              "safety      0\n",
              "class       0\n",
              "dtype: int64"
            ]
          },
          "execution_count": 24,
          "metadata": {},
          "output_type": "execute_result"
        }
      ],
      "source": [
        "# check missing values in variables\n",
        "\n",
        "df.isnull().sum()"
      ]
    },
    {
      "cell_type": "code",
      "execution_count": null,
      "metadata": {
        "scrolled": true,
        "id": "XLFihQrOu9ss",
        "outputId": "d670c5ba-446a-48c0-8571-08beb4226996"
      },
      "outputs": [
        {
          "data": {
            "text/html": [
              "<div>\n",
              "<style scoped>\n",
              "    .dataframe tbody tr th:only-of-type {\n",
              "        vertical-align: middle;\n",
              "    }\n",
              "\n",
              "    .dataframe tbody tr th {\n",
              "        vertical-align: top;\n",
              "    }\n",
              "\n",
              "    .dataframe thead th {\n",
              "        text-align: right;\n",
              "    }\n",
              "</style>\n",
              "<table border=\"1\" class=\"dataframe\">\n",
              "  <thead>\n",
              "    <tr style=\"text-align: right;\">\n",
              "      <th></th>\n",
              "      <th>buying</th>\n",
              "      <th>maint</th>\n",
              "      <th>doors</th>\n",
              "      <th>persons</th>\n",
              "      <th>lug_boot</th>\n",
              "      <th>safety</th>\n",
              "    </tr>\n",
              "  </thead>\n",
              "  <tbody>\n",
              "    <tr>\n",
              "      <th>0</th>\n",
              "      <td>vhigh</td>\n",
              "      <td>vhigh</td>\n",
              "      <td>2</td>\n",
              "      <td>2</td>\n",
              "      <td>small</td>\n",
              "      <td>med</td>\n",
              "    </tr>\n",
              "    <tr>\n",
              "      <th>1</th>\n",
              "      <td>vhigh</td>\n",
              "      <td>vhigh</td>\n",
              "      <td>2</td>\n",
              "      <td>2</td>\n",
              "      <td>small</td>\n",
              "      <td>high</td>\n",
              "    </tr>\n",
              "    <tr>\n",
              "      <th>2</th>\n",
              "      <td>vhigh</td>\n",
              "      <td>vhigh</td>\n",
              "      <td>2</td>\n",
              "      <td>2</td>\n",
              "      <td>med</td>\n",
              "      <td>low</td>\n",
              "    </tr>\n",
              "    <tr>\n",
              "      <th>3</th>\n",
              "      <td>vhigh</td>\n",
              "      <td>vhigh</td>\n",
              "      <td>2</td>\n",
              "      <td>2</td>\n",
              "      <td>med</td>\n",
              "      <td>med</td>\n",
              "    </tr>\n",
              "    <tr>\n",
              "      <th>4</th>\n",
              "      <td>vhigh</td>\n",
              "      <td>vhigh</td>\n",
              "      <td>2</td>\n",
              "      <td>2</td>\n",
              "      <td>med</td>\n",
              "      <td>high</td>\n",
              "    </tr>\n",
              "    <tr>\n",
              "      <th>...</th>\n",
              "      <td>...</td>\n",
              "      <td>...</td>\n",
              "      <td>...</td>\n",
              "      <td>...</td>\n",
              "      <td>...</td>\n",
              "      <td>...</td>\n",
              "    </tr>\n",
              "    <tr>\n",
              "      <th>1722</th>\n",
              "      <td>low</td>\n",
              "      <td>low</td>\n",
              "      <td>5more</td>\n",
              "      <td>more</td>\n",
              "      <td>med</td>\n",
              "      <td>med</td>\n",
              "    </tr>\n",
              "    <tr>\n",
              "      <th>1723</th>\n",
              "      <td>low</td>\n",
              "      <td>low</td>\n",
              "      <td>5more</td>\n",
              "      <td>more</td>\n",
              "      <td>med</td>\n",
              "      <td>high</td>\n",
              "    </tr>\n",
              "    <tr>\n",
              "      <th>1724</th>\n",
              "      <td>low</td>\n",
              "      <td>low</td>\n",
              "      <td>5more</td>\n",
              "      <td>more</td>\n",
              "      <td>big</td>\n",
              "      <td>low</td>\n",
              "    </tr>\n",
              "    <tr>\n",
              "      <th>1725</th>\n",
              "      <td>low</td>\n",
              "      <td>low</td>\n",
              "      <td>5more</td>\n",
              "      <td>more</td>\n",
              "      <td>big</td>\n",
              "      <td>med</td>\n",
              "    </tr>\n",
              "    <tr>\n",
              "      <th>1726</th>\n",
              "      <td>low</td>\n",
              "      <td>low</td>\n",
              "      <td>5more</td>\n",
              "      <td>more</td>\n",
              "      <td>big</td>\n",
              "      <td>high</td>\n",
              "    </tr>\n",
              "  </tbody>\n",
              "</table>\n",
              "<p>1727 rows × 6 columns</p>\n",
              "</div>"
            ],
            "text/plain": [
              "     buying  maint  doors persons lug_boot safety\n",
              "0     vhigh  vhigh      2       2    small    med\n",
              "1     vhigh  vhigh      2       2    small   high\n",
              "2     vhigh  vhigh      2       2      med    low\n",
              "3     vhigh  vhigh      2       2      med    med\n",
              "4     vhigh  vhigh      2       2      med   high\n",
              "...     ...    ...    ...     ...      ...    ...\n",
              "1722    low    low  5more    more      med    med\n",
              "1723    low    low  5more    more      med   high\n",
              "1724    low    low  5more    more      big    low\n",
              "1725    low    low  5more    more      big    med\n",
              "1726    low    low  5more    more      big   high\n",
              "\n",
              "[1727 rows x 6 columns]"
            ]
          },
          "execution_count": 25,
          "metadata": {},
          "output_type": "execute_result"
        }
      ],
      "source": [
        "x = df.drop(['class'], axis=1)\n",
        "x"
      ]
    },
    {
      "cell_type": "code",
      "execution_count": null,
      "metadata": {
        "id": "9C-efpW-u9st"
      },
      "outputs": [],
      "source": [
        "y = df['class']"
      ]
    },
    {
      "cell_type": "markdown",
      "metadata": {
        "id": "2sqiYo2Mu9st"
      },
      "source": [
        "# Feature Engineering"
      ]
    },
    {
      "cell_type": "markdown",
      "metadata": {
        "id": "oDgo2K5Iu9st"
      },
      "source": [
        "**Feature Engineering** is the process of transforming raw data into useful features that help us to understand our model better and increase its predictive power"
      ]
    },
    {
      "cell_type": "markdown",
      "metadata": {
        "id": "vK0t8Gyku9su"
      },
      "source": [
        "### Encode categorical variables"
      ]
    },
    {
      "cell_type": "code",
      "execution_count": null,
      "metadata": {
        "id": "gN4imOqku9su"
      },
      "outputs": [],
      "source": [
        "# import category encoders\n",
        "\n",
        "from sklearn.preprocessing import LabelEncoder\n",
        "Lab_en=LabelEncoder()\n",
        "for i in x.columns:\n",
        "    x[i]=Lab_en.fit_transform(x[i])"
      ]
    },
    {
      "cell_type": "code",
      "execution_count": null,
      "metadata": {
        "scrolled": true,
        "id": "kOVNOwsZu9su",
        "outputId": "68353bd7-b612-4450-f133-c7d2d33e7755"
      },
      "outputs": [
        {
          "name": "stdout",
          "output_type": "stream",
          "text": [
            "<class 'pandas.core.frame.DataFrame'>\n",
            "RangeIndex: 1727 entries, 0 to 1726\n",
            "Data columns (total 6 columns):\n",
            " #   Column    Non-Null Count  Dtype\n",
            "---  ------    --------------  -----\n",
            " 0   buying    1727 non-null   int32\n",
            " 1   maint     1727 non-null   int32\n",
            " 2   doors     1727 non-null   int32\n",
            " 3   persons   1727 non-null   int32\n",
            " 4   lug_boot  1727 non-null   int32\n",
            " 5   safety    1727 non-null   int32\n",
            "dtypes: int32(6)\n",
            "memory usage: 40.6 KB\n"
          ]
        }
      ],
      "source": [
        "x.info()"
      ]
    },
    {
      "cell_type": "markdown",
      "metadata": {
        "id": "NC8EeebSu9sv"
      },
      "source": [
        "### Train_Test_split"
      ]
    },
    {
      "cell_type": "code",
      "execution_count": null,
      "metadata": {
        "id": "dHFC-SRCu9sv"
      },
      "outputs": [],
      "source": [
        "from sklearn.model_selection import train_test_split"
      ]
    },
    {
      "cell_type": "code",
      "execution_count": null,
      "metadata": {
        "id": "SepIo9HOu9sv",
        "outputId": "42b5031f-ff99-42e2-fc03-61381e5b70c7"
      },
      "outputs": [
        {
          "data": {
            "text/plain": [
              "((1381, 6), (346, 6), (1381,), (346,))"
            ]
          },
          "execution_count": 34,
          "metadata": {},
          "output_type": "execute_result"
        }
      ],
      "source": [
        "x_train,x_test,y_train,y_test=train_test_split(x,y,test_size=0.2)\n",
        "x_train.shape,x_test.shape,y_train.shape,y_test.shape"
      ]
    },
    {
      "cell_type": "markdown",
      "metadata": {
        "id": "AN-uT-uJu9sv"
      },
      "source": [
        "# Decision Tree Classifier"
      ]
    },
    {
      "cell_type": "code",
      "execution_count": null,
      "metadata": {
        "id": "5ZKMCDBRu9sw"
      },
      "outputs": [],
      "source": [
        "from sklearn.tree import DecisionTreeClassifier"
      ]
    },
    {
      "cell_type": "code",
      "execution_count": null,
      "metadata": {
        "id": "RecA8oP8u9sw",
        "outputId": "83b8d583-f6a4-4c1b-c4f7-ea59f9c5543f"
      },
      "outputs": [
        {
          "data": {
            "text/html": [
              "<style>#sk-container-id-1 {\n",
              "  /* Definition of color scheme common for light and dark mode */\n",
              "  --sklearn-color-text: black;\n",
              "  --sklearn-color-line: gray;\n",
              "  /* Definition of color scheme for unfitted estimators */\n",
              "  --sklearn-color-unfitted-level-0: #fff5e6;\n",
              "  --sklearn-color-unfitted-level-1: #f6e4d2;\n",
              "  --sklearn-color-unfitted-level-2: #ffe0b3;\n",
              "  --sklearn-color-unfitted-level-3: chocolate;\n",
              "  /* Definition of color scheme for fitted estimators */\n",
              "  --sklearn-color-fitted-level-0: #f0f8ff;\n",
              "  --sklearn-color-fitted-level-1: #d4ebff;\n",
              "  --sklearn-color-fitted-level-2: #b3dbfd;\n",
              "  --sklearn-color-fitted-level-3: cornflowerblue;\n",
              "\n",
              "  /* Specific color for light theme */\n",
              "  --sklearn-color-text-on-default-background: var(--sg-text-color, var(--theme-code-foreground, var(--jp-content-font-color1, black)));\n",
              "  --sklearn-color-background: var(--sg-background-color, var(--theme-background, var(--jp-layout-color0, white)));\n",
              "  --sklearn-color-border-box: var(--sg-text-color, var(--theme-code-foreground, var(--jp-content-font-color1, black)));\n",
              "  --sklearn-color-icon: #696969;\n",
              "\n",
              "  @media (prefers-color-scheme: dark) {\n",
              "    /* Redefinition of color scheme for dark theme */\n",
              "    --sklearn-color-text-on-default-background: var(--sg-text-color, var(--theme-code-foreground, var(--jp-content-font-color1, white)));\n",
              "    --sklearn-color-background: var(--sg-background-color, var(--theme-background, var(--jp-layout-color0, #111)));\n",
              "    --sklearn-color-border-box: var(--sg-text-color, var(--theme-code-foreground, var(--jp-content-font-color1, white)));\n",
              "    --sklearn-color-icon: #878787;\n",
              "  }\n",
              "}\n",
              "\n",
              "#sk-container-id-1 {\n",
              "  color: var(--sklearn-color-text);\n",
              "}\n",
              "\n",
              "#sk-container-id-1 pre {\n",
              "  padding: 0;\n",
              "}\n",
              "\n",
              "#sk-container-id-1 input.sk-hidden--visually {\n",
              "  border: 0;\n",
              "  clip: rect(1px 1px 1px 1px);\n",
              "  clip: rect(1px, 1px, 1px, 1px);\n",
              "  height: 1px;\n",
              "  margin: -1px;\n",
              "  overflow: hidden;\n",
              "  padding: 0;\n",
              "  position: absolute;\n",
              "  width: 1px;\n",
              "}\n",
              "\n",
              "#sk-container-id-1 div.sk-dashed-wrapped {\n",
              "  border: 1px dashed var(--sklearn-color-line);\n",
              "  margin: 0 0.4em 0.5em 0.4em;\n",
              "  box-sizing: border-box;\n",
              "  padding-bottom: 0.4em;\n",
              "  background-color: var(--sklearn-color-background);\n",
              "}\n",
              "\n",
              "#sk-container-id-1 div.sk-container {\n",
              "  /* jupyter's `normalize.less` sets `[hidden] { display: none; }`\n",
              "     but bootstrap.min.css set `[hidden] { display: none !important; }`\n",
              "     so we also need the `!important` here to be able to override the\n",
              "     default hidden behavior on the sphinx rendered scikit-learn.org.\n",
              "     See: https://github.com/scikit-learn/scikit-learn/issues/21755 */\n",
              "  display: inline-block !important;\n",
              "  position: relative;\n",
              "}\n",
              "\n",
              "#sk-container-id-1 div.sk-text-repr-fallback {\n",
              "  display: none;\n",
              "}\n",
              "\n",
              "div.sk-parallel-item,\n",
              "div.sk-serial,\n",
              "div.sk-item {\n",
              "  /* draw centered vertical line to link estimators */\n",
              "  background-image: linear-gradient(var(--sklearn-color-text-on-default-background), var(--sklearn-color-text-on-default-background));\n",
              "  background-size: 2px 100%;\n",
              "  background-repeat: no-repeat;\n",
              "  background-position: center center;\n",
              "}\n",
              "\n",
              "/* Parallel-specific style estimator block */\n",
              "\n",
              "#sk-container-id-1 div.sk-parallel-item::after {\n",
              "  content: \"\";\n",
              "  width: 100%;\n",
              "  border-bottom: 2px solid var(--sklearn-color-text-on-default-background);\n",
              "  flex-grow: 1;\n",
              "}\n",
              "\n",
              "#sk-container-id-1 div.sk-parallel {\n",
              "  display: flex;\n",
              "  align-items: stretch;\n",
              "  justify-content: center;\n",
              "  background-color: var(--sklearn-color-background);\n",
              "  position: relative;\n",
              "}\n",
              "\n",
              "#sk-container-id-1 div.sk-parallel-item {\n",
              "  display: flex;\n",
              "  flex-direction: column;\n",
              "}\n",
              "\n",
              "#sk-container-id-1 div.sk-parallel-item:first-child::after {\n",
              "  align-self: flex-end;\n",
              "  width: 50%;\n",
              "}\n",
              "\n",
              "#sk-container-id-1 div.sk-parallel-item:last-child::after {\n",
              "  align-self: flex-start;\n",
              "  width: 50%;\n",
              "}\n",
              "\n",
              "#sk-container-id-1 div.sk-parallel-item:only-child::after {\n",
              "  width: 0;\n",
              "}\n",
              "\n",
              "/* Serial-specific style estimator block */\n",
              "\n",
              "#sk-container-id-1 div.sk-serial {\n",
              "  display: flex;\n",
              "  flex-direction: column;\n",
              "  align-items: center;\n",
              "  background-color: var(--sklearn-color-background);\n",
              "  padding-right: 1em;\n",
              "  padding-left: 1em;\n",
              "}\n",
              "\n",
              "\n",
              "/* Toggleable style: style used for estimator/Pipeline/ColumnTransformer box that is\n",
              "clickable and can be expanded/collapsed.\n",
              "- Pipeline and ColumnTransformer use this feature and define the default style\n",
              "- Estimators will overwrite some part of the style using the `sk-estimator` class\n",
              "*/\n",
              "\n",
              "/* Pipeline and ColumnTransformer style (default) */\n",
              "\n",
              "#sk-container-id-1 div.sk-toggleable {\n",
              "  /* Default theme specific background. It is overwritten whether we have a\n",
              "  specific estimator or a Pipeline/ColumnTransformer */\n",
              "  background-color: var(--sklearn-color-background);\n",
              "}\n",
              "\n",
              "/* Toggleable label */\n",
              "#sk-container-id-1 label.sk-toggleable__label {\n",
              "  cursor: pointer;\n",
              "  display: block;\n",
              "  width: 100%;\n",
              "  margin-bottom: 0;\n",
              "  padding: 0.5em;\n",
              "  box-sizing: border-box;\n",
              "  text-align: center;\n",
              "}\n",
              "\n",
              "#sk-container-id-1 label.sk-toggleable__label-arrow:before {\n",
              "  /* Arrow on the left of the label */\n",
              "  content: \"▸\";\n",
              "  float: left;\n",
              "  margin-right: 0.25em;\n",
              "  color: var(--sklearn-color-icon);\n",
              "}\n",
              "\n",
              "#sk-container-id-1 label.sk-toggleable__label-arrow:hover:before {\n",
              "  color: var(--sklearn-color-text);\n",
              "}\n",
              "\n",
              "/* Toggleable content - dropdown */\n",
              "\n",
              "#sk-container-id-1 div.sk-toggleable__content {\n",
              "  max-height: 0;\n",
              "  max-width: 0;\n",
              "  overflow: hidden;\n",
              "  text-align: left;\n",
              "  /* unfitted */\n",
              "  background-color: var(--sklearn-color-unfitted-level-0);\n",
              "}\n",
              "\n",
              "#sk-container-id-1 div.sk-toggleable__content.fitted {\n",
              "  /* fitted */\n",
              "  background-color: var(--sklearn-color-fitted-level-0);\n",
              "}\n",
              "\n",
              "#sk-container-id-1 div.sk-toggleable__content pre {\n",
              "  margin: 0.2em;\n",
              "  border-radius: 0.25em;\n",
              "  color: var(--sklearn-color-text);\n",
              "  /* unfitted */\n",
              "  background-color: var(--sklearn-color-unfitted-level-0);\n",
              "}\n",
              "\n",
              "#sk-container-id-1 div.sk-toggleable__content.fitted pre {\n",
              "  /* unfitted */\n",
              "  background-color: var(--sklearn-color-fitted-level-0);\n",
              "}\n",
              "\n",
              "#sk-container-id-1 input.sk-toggleable__control:checked~div.sk-toggleable__content {\n",
              "  /* Expand drop-down */\n",
              "  max-height: 200px;\n",
              "  max-width: 100%;\n",
              "  overflow: auto;\n",
              "}\n",
              "\n",
              "#sk-container-id-1 input.sk-toggleable__control:checked~label.sk-toggleable__label-arrow:before {\n",
              "  content: \"▾\";\n",
              "}\n",
              "\n",
              "/* Pipeline/ColumnTransformer-specific style */\n",
              "\n",
              "#sk-container-id-1 div.sk-label input.sk-toggleable__control:checked~label.sk-toggleable__label {\n",
              "  color: var(--sklearn-color-text);\n",
              "  background-color: var(--sklearn-color-unfitted-level-2);\n",
              "}\n",
              "\n",
              "#sk-container-id-1 div.sk-label.fitted input.sk-toggleable__control:checked~label.sk-toggleable__label {\n",
              "  background-color: var(--sklearn-color-fitted-level-2);\n",
              "}\n",
              "\n",
              "/* Estimator-specific style */\n",
              "\n",
              "/* Colorize estimator box */\n",
              "#sk-container-id-1 div.sk-estimator input.sk-toggleable__control:checked~label.sk-toggleable__label {\n",
              "  /* unfitted */\n",
              "  background-color: var(--sklearn-color-unfitted-level-2);\n",
              "}\n",
              "\n",
              "#sk-container-id-1 div.sk-estimator.fitted input.sk-toggleable__control:checked~label.sk-toggleable__label {\n",
              "  /* fitted */\n",
              "  background-color: var(--sklearn-color-fitted-level-2);\n",
              "}\n",
              "\n",
              "#sk-container-id-1 div.sk-label label.sk-toggleable__label,\n",
              "#sk-container-id-1 div.sk-label label {\n",
              "  /* The background is the default theme color */\n",
              "  color: var(--sklearn-color-text-on-default-background);\n",
              "}\n",
              "\n",
              "/* On hover, darken the color of the background */\n",
              "#sk-container-id-1 div.sk-label:hover label.sk-toggleable__label {\n",
              "  color: var(--sklearn-color-text);\n",
              "  background-color: var(--sklearn-color-unfitted-level-2);\n",
              "}\n",
              "\n",
              "/* Label box, darken color on hover, fitted */\n",
              "#sk-container-id-1 div.sk-label.fitted:hover label.sk-toggleable__label.fitted {\n",
              "  color: var(--sklearn-color-text);\n",
              "  background-color: var(--sklearn-color-fitted-level-2);\n",
              "}\n",
              "\n",
              "/* Estimator label */\n",
              "\n",
              "#sk-container-id-1 div.sk-label label {\n",
              "  font-family: monospace;\n",
              "  font-weight: bold;\n",
              "  display: inline-block;\n",
              "  line-height: 1.2em;\n",
              "}\n",
              "\n",
              "#sk-container-id-1 div.sk-label-container {\n",
              "  text-align: center;\n",
              "}\n",
              "\n",
              "/* Estimator-specific */\n",
              "#sk-container-id-1 div.sk-estimator {\n",
              "  font-family: monospace;\n",
              "  border: 1px dotted var(--sklearn-color-border-box);\n",
              "  border-radius: 0.25em;\n",
              "  box-sizing: border-box;\n",
              "  margin-bottom: 0.5em;\n",
              "  /* unfitted */\n",
              "  background-color: var(--sklearn-color-unfitted-level-0);\n",
              "}\n",
              "\n",
              "#sk-container-id-1 div.sk-estimator.fitted {\n",
              "  /* fitted */\n",
              "  background-color: var(--sklearn-color-fitted-level-0);\n",
              "}\n",
              "\n",
              "/* on hover */\n",
              "#sk-container-id-1 div.sk-estimator:hover {\n",
              "  /* unfitted */\n",
              "  background-color: var(--sklearn-color-unfitted-level-2);\n",
              "}\n",
              "\n",
              "#sk-container-id-1 div.sk-estimator.fitted:hover {\n",
              "  /* fitted */\n",
              "  background-color: var(--sklearn-color-fitted-level-2);\n",
              "}\n",
              "\n",
              "/* Specification for estimator info (e.g. \"i\" and \"?\") */\n",
              "\n",
              "/* Common style for \"i\" and \"?\" */\n",
              "\n",
              ".sk-estimator-doc-link,\n",
              "a:link.sk-estimator-doc-link,\n",
              "a:visited.sk-estimator-doc-link {\n",
              "  float: right;\n",
              "  font-size: smaller;\n",
              "  line-height: 1em;\n",
              "  font-family: monospace;\n",
              "  background-color: var(--sklearn-color-background);\n",
              "  border-radius: 1em;\n",
              "  height: 1em;\n",
              "  width: 1em;\n",
              "  text-decoration: none !important;\n",
              "  margin-left: 1ex;\n",
              "  /* unfitted */\n",
              "  border: var(--sklearn-color-unfitted-level-1) 1pt solid;\n",
              "  color: var(--sklearn-color-unfitted-level-1);\n",
              "}\n",
              "\n",
              ".sk-estimator-doc-link.fitted,\n",
              "a:link.sk-estimator-doc-link.fitted,\n",
              "a:visited.sk-estimator-doc-link.fitted {\n",
              "  /* fitted */\n",
              "  border: var(--sklearn-color-fitted-level-1) 1pt solid;\n",
              "  color: var(--sklearn-color-fitted-level-1);\n",
              "}\n",
              "\n",
              "/* On hover */\n",
              "div.sk-estimator:hover .sk-estimator-doc-link:hover,\n",
              ".sk-estimator-doc-link:hover,\n",
              "div.sk-label-container:hover .sk-estimator-doc-link:hover,\n",
              ".sk-estimator-doc-link:hover {\n",
              "  /* unfitted */\n",
              "  background-color: var(--sklearn-color-unfitted-level-3);\n",
              "  color: var(--sklearn-color-background);\n",
              "  text-decoration: none;\n",
              "}\n",
              "\n",
              "div.sk-estimator.fitted:hover .sk-estimator-doc-link.fitted:hover,\n",
              ".sk-estimator-doc-link.fitted:hover,\n",
              "div.sk-label-container:hover .sk-estimator-doc-link.fitted:hover,\n",
              ".sk-estimator-doc-link.fitted:hover {\n",
              "  /* fitted */\n",
              "  background-color: var(--sklearn-color-fitted-level-3);\n",
              "  color: var(--sklearn-color-background);\n",
              "  text-decoration: none;\n",
              "}\n",
              "\n",
              "/* Span, style for the box shown on hovering the info icon */\n",
              ".sk-estimator-doc-link span {\n",
              "  display: none;\n",
              "  z-index: 9999;\n",
              "  position: relative;\n",
              "  font-weight: normal;\n",
              "  right: .2ex;\n",
              "  padding: .5ex;\n",
              "  margin: .5ex;\n",
              "  width: min-content;\n",
              "  min-width: 20ex;\n",
              "  max-width: 50ex;\n",
              "  color: var(--sklearn-color-text);\n",
              "  box-shadow: 2pt 2pt 4pt #999;\n",
              "  /* unfitted */\n",
              "  background: var(--sklearn-color-unfitted-level-0);\n",
              "  border: .5pt solid var(--sklearn-color-unfitted-level-3);\n",
              "}\n",
              "\n",
              ".sk-estimator-doc-link.fitted span {\n",
              "  /* fitted */\n",
              "  background: var(--sklearn-color-fitted-level-0);\n",
              "  border: var(--sklearn-color-fitted-level-3);\n",
              "}\n",
              "\n",
              ".sk-estimator-doc-link:hover span {\n",
              "  display: block;\n",
              "}\n",
              "\n",
              "/* \"?\"-specific style due to the `<a>` HTML tag */\n",
              "\n",
              "#sk-container-id-1 a.estimator_doc_link {\n",
              "  float: right;\n",
              "  font-size: 1rem;\n",
              "  line-height: 1em;\n",
              "  font-family: monospace;\n",
              "  background-color: var(--sklearn-color-background);\n",
              "  border-radius: 1rem;\n",
              "  height: 1rem;\n",
              "  width: 1rem;\n",
              "  text-decoration: none;\n",
              "  /* unfitted */\n",
              "  color: var(--sklearn-color-unfitted-level-1);\n",
              "  border: var(--sklearn-color-unfitted-level-1) 1pt solid;\n",
              "}\n",
              "\n",
              "#sk-container-id-1 a.estimator_doc_link.fitted {\n",
              "  /* fitted */\n",
              "  border: var(--sklearn-color-fitted-level-1) 1pt solid;\n",
              "  color: var(--sklearn-color-fitted-level-1);\n",
              "}\n",
              "\n",
              "/* On hover */\n",
              "#sk-container-id-1 a.estimator_doc_link:hover {\n",
              "  /* unfitted */\n",
              "  background-color: var(--sklearn-color-unfitted-level-3);\n",
              "  color: var(--sklearn-color-background);\n",
              "  text-decoration: none;\n",
              "}\n",
              "\n",
              "#sk-container-id-1 a.estimator_doc_link.fitted:hover {\n",
              "  /* fitted */\n",
              "  background-color: var(--sklearn-color-fitted-level-3);\n",
              "}\n",
              "</style><div id=\"sk-container-id-1\" class=\"sk-top-container\"><div class=\"sk-text-repr-fallback\"><pre>DecisionTreeClassifier()</pre><b>In a Jupyter environment, please rerun this cell to show the HTML representation or trust the notebook. <br />On GitHub, the HTML representation is unable to render, please try loading this page with nbviewer.org.</b></div><div class=\"sk-container\" hidden><div class=\"sk-item\"><div class=\"sk-estimator fitted sk-toggleable\"><input class=\"sk-toggleable__control sk-hidden--visually\" id=\"sk-estimator-id-1\" type=\"checkbox\" checked><label for=\"sk-estimator-id-1\" class=\"sk-toggleable__label fitted sk-toggleable__label-arrow fitted\">&nbsp;&nbsp;DecisionTreeClassifier<a class=\"sk-estimator-doc-link fitted\" rel=\"noreferrer\" target=\"_blank\" href=\"https://scikit-learn.org/1.4/modules/generated/sklearn.tree.DecisionTreeClassifier.html\">?<span>Documentation for DecisionTreeClassifier</span></a><span class=\"sk-estimator-doc-link fitted\">i<span>Fitted</span></span></label><div class=\"sk-toggleable__content fitted\"><pre>DecisionTreeClassifier()</pre></div> </div></div></div></div>"
            ],
            "text/plain": [
              "DecisionTreeClassifier()"
            ]
          },
          "execution_count": 37,
          "metadata": {},
          "output_type": "execute_result"
        }
      ],
      "source": [
        "model = DecisionTreeClassifier(criterion='gini')\n",
        "\n",
        "model.fit(x_train, y_train)"
      ]
    },
    {
      "cell_type": "markdown",
      "metadata": {
        "id": "_xQeTdYKu9sw"
      },
      "source": [
        "### Check for overfitting and underfitting"
      ]
    },
    {
      "cell_type": "code",
      "execution_count": null,
      "metadata": {
        "id": "p3oJ9dQKu9sx",
        "outputId": "8115fe7d-6792-4074-95e3-94fca03d3d84"
      },
      "outputs": [
        {
          "name": "stdout",
          "output_type": "stream",
          "text": [
            "Train scores: 1.0\n",
            "Test scores: 0.9855491329479769\n"
          ]
        }
      ],
      "source": [
        "print(\"Train scores:\",model.score(x_train,y_train))\n",
        "print(\"Test scores:\",model.score(x_test,y_test))"
      ]
    },
    {
      "cell_type": "markdown",
      "metadata": {
        "id": "7EIZ9fK5u9sx"
      },
      "source": [
        "### Visualize decision-trees"
      ]
    },
    {
      "cell_type": "code",
      "execution_count": null,
      "metadata": {
        "id": "b6Lmm8sCu9sx",
        "outputId": "e90ddbc8-2632-4575-de76-2bb2da943344"
      },
      "outputs": [
        {
          "data": {
            "text/plain": [
              "[Text(0.5721293604651163, 0.9666666666666667, 'x[3] <= 0.5\\ngini = 0.461\\nsamples = 1381\\nvalue = [306.0, 59.0, 963.0, 53.0]'),\n",
              " Text(0.5605014534883721, 0.9, 'gini = 0.0\\nsamples = 455\\nvalue = [0, 0, 455, 0]'),\n",
              " Text(0.5837572674418605, 0.9, 'x[5] <= 0.5\\ngini = 0.583\\nsamples = 926\\nvalue = [306, 59, 508, 53]'),\n",
              " Text(0.32776162790697677, 0.8333333333333334, 'x[0] <= 2.5\\ngini = 0.645\\nsamples = 310\\nvalue = [161.0, 28.0, 68.0, 53.0]'),\n",
              " Text(0.17877906976744187, 0.7666666666666667, 'x[0] <= 0.5\\ngini = 0.634\\nsamples = 232\\nvalue = [124.0, 28.0, 27.0, 53.0]'),\n",
              " Text(0.046511627906976744, 0.7, 'x[1] <= 2.5\\ngini = 0.41\\nsamples = 73\\nvalue = [52, 0, 21, 0]'),\n",
              " Text(0.03488372093023256, 0.6333333333333333, 'x[2] <= 0.5\\ngini = 0.071\\nsamples = 54\\nvalue = [52, 0, 2, 0]'),\n",
              " Text(0.023255813953488372, 0.5666666666666667, 'x[4] <= 1.5\\ngini = 0.245\\nsamples = 14\\nvalue = [12, 0, 2, 0]'),\n",
              " Text(0.011627906976744186, 0.5, 'gini = 0.0\\nsamples = 11\\nvalue = [11, 0, 0, 0]'),\n",
              " Text(0.03488372093023256, 0.5, 'x[3] <= 1.5\\ngini = 0.444\\nsamples = 3\\nvalue = [1, 0, 2, 0]'),\n",
              " Text(0.023255813953488372, 0.43333333333333335, 'gini = 0.0\\nsamples = 1\\nvalue = [1, 0, 0, 0]'),\n",
              " Text(0.046511627906976744, 0.43333333333333335, 'gini = 0.0\\nsamples = 2\\nvalue = [0, 0, 2, 0]'),\n",
              " Text(0.046511627906976744, 0.5666666666666667, 'gini = 0.0\\nsamples = 40\\nvalue = [40, 0, 0, 0]'),\n",
              " Text(0.05813953488372093, 0.6333333333333333, 'gini = 0.0\\nsamples = 19\\nvalue = [0, 0, 19, 0]'),\n",
              " Text(0.311046511627907, 0.7, 'x[1] <= 2.5\\ngini = 0.651\\nsamples = 159\\nvalue = [72.0, 28.0, 6.0, 53.0]'),\n",
              " Text(0.21511627906976744, 0.6333333333333333, 'x[1] <= 0.5\\ngini = 0.666\\nsamples = 122\\nvalue = [37, 28, 4, 53]'),\n",
              " Text(0.13372093023255813, 0.5666666666666667, 'x[0] <= 1.5\\ngini = 0.421\\nsamples = 40\\nvalue = [29, 0, 2, 9]'),\n",
              " Text(0.09302325581395349, 0.5, 'x[4] <= 1.5\\ngini = 0.547\\nsamples = 17\\nvalue = [7, 0, 1, 9]'),\n",
              " Text(0.06976744186046512, 0.43333333333333335, 'x[2] <= 1.5\\ngini = 0.375\\nsamples = 12\\nvalue = [3, 0, 0, 9]'),\n",
              " Text(0.05813953488372093, 0.36666666666666664, 'x[4] <= 0.5\\ngini = 0.5\\nsamples = 6\\nvalue = [3, 0, 0, 3]'),\n",
              " Text(0.046511627906976744, 0.3, 'gini = 0.0\\nsamples = 2\\nvalue = [0, 0, 0, 2]'),\n",
              " Text(0.06976744186046512, 0.3, 'x[2] <= 0.5\\ngini = 0.375\\nsamples = 4\\nvalue = [3, 0, 0, 1]'),\n",
              " Text(0.05813953488372093, 0.23333333333333334, 'gini = 0.0\\nsamples = 2\\nvalue = [2, 0, 0, 0]'),\n",
              " Text(0.08139534883720931, 0.23333333333333334, 'x[3] <= 1.5\\ngini = 0.5\\nsamples = 2\\nvalue = [1, 0, 0, 1]'),\n",
              " Text(0.06976744186046512, 0.16666666666666666, 'gini = 0.0\\nsamples = 1\\nvalue = [1, 0, 0, 0]'),\n",
              " Text(0.09302325581395349, 0.16666666666666666, 'gini = 0.0\\nsamples = 1\\nvalue = [0, 0, 0, 1]'),\n",
              " Text(0.08139534883720931, 0.36666666666666664, 'gini = 0.0\\nsamples = 6\\nvalue = [0, 0, 0, 6]'),\n",
              " Text(0.11627906976744186, 0.43333333333333335, 'x[2] <= 0.5\\ngini = 0.32\\nsamples = 5\\nvalue = [4, 0, 1, 0]'),\n",
              " Text(0.10465116279069768, 0.36666666666666664, 'x[3] <= 1.5\\ngini = 0.5\\nsamples = 2\\nvalue = [1, 0, 1, 0]'),\n",
              " Text(0.09302325581395349, 0.3, 'gini = 0.0\\nsamples = 1\\nvalue = [1, 0, 0, 0]'),\n",
              " Text(0.11627906976744186, 0.3, 'gini = 0.0\\nsamples = 1\\nvalue = [0, 0, 1, 0]'),\n",
              " Text(0.12790697674418605, 0.36666666666666664, 'gini = 0.0\\nsamples = 3\\nvalue = [3, 0, 0, 0]'),\n",
              " Text(0.1744186046511628, 0.5, 'x[2] <= 0.5\\ngini = 0.083\\nsamples = 23\\nvalue = [22, 0, 1, 0]'),\n",
              " Text(0.16279069767441862, 0.43333333333333335, 'x[4] <= 1.5\\ngini = 0.278\\nsamples = 6\\nvalue = [5, 0, 1, 0]'),\n",
              " Text(0.1511627906976744, 0.36666666666666664, 'gini = 0.0\\nsamples = 4\\nvalue = [4, 0, 0, 0]'),\n",
              " Text(0.1744186046511628, 0.36666666666666664, 'x[3] <= 1.5\\ngini = 0.5\\nsamples = 2\\nvalue = [1, 0, 1, 0]'),\n",
              " Text(0.16279069767441862, 0.3, 'gini = 0.0\\nsamples = 1\\nvalue = [1, 0, 0, 0]'),\n",
              " Text(0.18604651162790697, 0.3, 'gini = 0.0\\nsamples = 1\\nvalue = [0, 0, 1, 0]'),\n",
              " Text(0.18604651162790697, 0.43333333333333335, 'gini = 0.0\\nsamples = 17\\nvalue = [17, 0, 0, 0]'),\n",
              " Text(0.29651162790697677, 0.5666666666666667, 'x[4] <= 1.5\\ngini = 0.585\\nsamples = 82\\nvalue = [8.0, 28.0, 2.0, 44.0]'),\n",
              " Text(0.2441860465116279, 0.5, 'x[2] <= 1.5\\ngini = 0.332\\nsamples = 55\\nvalue = [2, 9, 0, 44]'),\n",
              " Text(0.23255813953488372, 0.43333333333333335, 'x[4] <= 0.5\\ngini = 0.541\\nsamples = 26\\nvalue = [2.0, 9.0, 0.0, 15.0]'),\n",
              " Text(0.22093023255813954, 0.36666666666666664, 'gini = 0.0\\nsamples = 13\\nvalue = [0, 0, 0, 13]'),\n",
              " Text(0.2441860465116279, 0.36666666666666664, 'x[2] <= 0.5\\ngini = 0.473\\nsamples = 13\\nvalue = [2, 9, 0, 2]'),\n",
              " Text(0.20930232558139536, 0.3, 'x[1] <= 1.5\\ngini = 0.245\\nsamples = 7\\nvalue = [1, 6, 0, 0]'),\n",
              " Text(0.19767441860465115, 0.23333333333333334, 'gini = 0.0\\nsamples = 4\\nvalue = [0, 4, 0, 0]'),\n",
              " Text(0.22093023255813954, 0.23333333333333334, 'x[0] <= 1.5\\ngini = 0.444\\nsamples = 3\\nvalue = [1, 2, 0, 0]'),\n",
              " Text(0.20930232558139536, 0.16666666666666666, 'gini = 0.0\\nsamples = 2\\nvalue = [0, 2, 0, 0]'),\n",
              " Text(0.23255813953488372, 0.16666666666666666, 'gini = 0.0\\nsamples = 1\\nvalue = [1, 0, 0, 0]'),\n",
              " Text(0.27906976744186046, 0.3, 'x[3] <= 1.5\\ngini = 0.611\\nsamples = 6\\nvalue = [1, 3, 0, 2]'),\n",
              " Text(0.26744186046511625, 0.23333333333333334, 'x[1] <= 1.5\\ngini = 0.375\\nsamples = 4\\nvalue = [1, 3, 0, 0]'),\n",
              " Text(0.2558139534883721, 0.16666666666666666, 'gini = 0.0\\nsamples = 2\\nvalue = [0, 2, 0, 0]'),\n",
              " Text(0.27906976744186046, 0.16666666666666666, 'x[0] <= 1.5\\ngini = 0.5\\nsamples = 2\\nvalue = [1, 1, 0, 0]'),\n",
              " Text(0.26744186046511625, 0.1, 'gini = 0.0\\nsamples = 1\\nvalue = [0, 1, 0, 0]'),\n",
              " Text(0.29069767441860467, 0.1, 'gini = 0.0\\nsamples = 1\\nvalue = [1, 0, 0, 0]'),\n",
              " Text(0.29069767441860467, 0.23333333333333334, 'gini = 0.0\\nsamples = 2\\nvalue = [0, 0, 0, 2]'),\n",
              " Text(0.2558139534883721, 0.43333333333333335, 'gini = 0.0\\nsamples = 29\\nvalue = [0, 0, 0, 29]'),\n",
              " Text(0.3488372093023256, 0.5, 'x[1] <= 1.5\\ngini = 0.45\\nsamples = 27\\nvalue = [6, 19, 2, 0]'),\n",
              " Text(0.32558139534883723, 0.43333333333333335, 'x[2] <= 0.5\\ngini = 0.133\\nsamples = 14\\nvalue = [0, 13, 1, 0]'),\n",
              " Text(0.313953488372093, 0.36666666666666664, 'x[3] <= 1.5\\ngini = 0.444\\nsamples = 3\\nvalue = [0, 2, 1, 0]'),\n",
              " Text(0.3023255813953488, 0.3, 'gini = 0.0\\nsamples = 2\\nvalue = [0, 2, 0, 0]'),\n",
              " Text(0.32558139534883723, 0.3, 'gini = 0.0\\nsamples = 1\\nvalue = [0, 0, 1, 0]'),\n",
              " Text(0.3372093023255814, 0.36666666666666664, 'gini = 0.0\\nsamples = 11\\nvalue = [0, 11, 0, 0]'),\n",
              " Text(0.37209302325581395, 0.43333333333333335, 'x[0] <= 1.5\\ngini = 0.568\\nsamples = 13\\nvalue = [6, 6, 1, 0]'),\n",
              " Text(0.36046511627906974, 0.36666666666666664, 'gini = 0.0\\nsamples = 6\\nvalue = [0, 6, 0, 0]'),\n",
              " Text(0.38372093023255816, 0.36666666666666664, 'x[2] <= 0.5\\ngini = 0.245\\nsamples = 7\\nvalue = [6, 0, 1, 0]'),\n",
              " Text(0.37209302325581395, 0.3, 'gini = 0.0\\nsamples = 1\\nvalue = [0, 0, 1, 0]'),\n",
              " Text(0.3953488372093023, 0.3, 'gini = 0.0\\nsamples = 6\\nvalue = [6, 0, 0, 0]'),\n",
              " Text(0.4069767441860465, 0.6333333333333333, 'x[4] <= 1.5\\ngini = 0.102\\nsamples = 37\\nvalue = [35, 0, 2, 0]'),\n",
              " Text(0.3953488372093023, 0.5666666666666667, 'gini = 0.0\\nsamples = 26\\nvalue = [26, 0, 0, 0]'),\n",
              " Text(0.4186046511627907, 0.5666666666666667, 'x[2] <= 0.5\\ngini = 0.298\\nsamples = 11\\nvalue = [9, 0, 2, 0]'),\n",
              " Text(0.4069767441860465, 0.5, 'x[3] <= 1.5\\ngini = 0.444\\nsamples = 3\\nvalue = [1, 0, 2, 0]'),\n",
              " Text(0.3953488372093023, 0.43333333333333335, 'gini = 0.0\\nsamples = 1\\nvalue = [1, 0, 0, 0]'),\n",
              " Text(0.4186046511627907, 0.43333333333333335, 'gini = 0.0\\nsamples = 2\\nvalue = [0, 0, 2, 0]'),\n",
              " Text(0.43023255813953487, 0.5, 'gini = 0.0\\nsamples = 8\\nvalue = [8, 0, 0, 0]'),\n",
              " Text(0.47674418604651164, 0.7666666666666667, 'x[1] <= 0.5\\ngini = 0.499\\nsamples = 78\\nvalue = [37, 0, 41, 0]'),\n",
              " Text(0.46511627906976744, 0.7, 'gini = 0.0\\nsamples = 22\\nvalue = [0, 0, 22, 0]'),\n",
              " Text(0.4883720930232558, 0.7, 'x[1] <= 2.5\\ngini = 0.448\\nsamples = 56\\nvalue = [37, 0, 19, 0]'),\n",
              " Text(0.47674418604651164, 0.6333333333333333, 'x[2] <= 0.5\\ngini = 0.051\\nsamples = 38\\nvalue = [37, 0, 1, 0]'),\n",
              " Text(0.46511627906976744, 0.5666666666666667, 'x[4] <= 1.5\\ngini = 0.18\\nsamples = 10\\nvalue = [9, 0, 1, 0]'),\n",
              " Text(0.45348837209302323, 0.5, 'gini = 0.0\\nsamples = 7\\nvalue = [7, 0, 0, 0]'),\n",
              " Text(0.47674418604651164, 0.5, 'x[3] <= 1.5\\ngini = 0.444\\nsamples = 3\\nvalue = [2, 0, 1, 0]'),\n",
              " Text(0.46511627906976744, 0.43333333333333335, 'gini = 0.0\\nsamples = 2\\nvalue = [2, 0, 0, 0]'),\n",
              " Text(0.4883720930232558, 0.43333333333333335, 'gini = 0.0\\nsamples = 1\\nvalue = [0, 0, 1, 0]'),\n",
              " Text(0.4883720930232558, 0.5666666666666667, 'gini = 0.0\\nsamples = 28\\nvalue = [28, 0, 0, 0]'),\n",
              " Text(0.5, 0.6333333333333333, 'gini = 0.0\\nsamples = 18\\nvalue = [0, 0, 18, 0]'),\n",
              " Text(0.8397529069767442, 0.8333333333333334, 'x[5] <= 1.5\\ngini = 0.432\\nsamples = 616\\nvalue = [145, 31, 440, 0]'),\n",
              " Text(0.828125, 0.7666666666666667, 'gini = 0.0\\nsamples = 305\\nvalue = [0, 0, 305, 0]'),\n",
              " Text(0.8513808139534884, 0.7666666666666667, 'x[4] <= 1.5\\ngini = 0.584\\nsamples = 311\\nvalue = [145, 31, 135, 0]'),\n",
              " Text(0.7376453488372093, 0.7, 'x[0] <= 2.5\\ngini = 0.571\\nsamples = 211\\nvalue = [121.0, 31.0, 59.0, 0.0]'),\n",
              " Text(0.6148255813953488, 0.6333333333333333, 'x[0] <= 0.5\\ngini = 0.532\\nsamples = 155\\nvalue = [98.0, 31.0, 26.0, 0.0]'),\n",
              " Text(0.5348837209302325, 0.5666666666666667, 'x[1] <= 2.5\\ngini = 0.473\\nsamples = 52\\nvalue = [32, 0, 20, 0]'),\n",
              " Text(0.5232558139534884, 0.5, 'x[2] <= 1.5\\ngini = 0.295\\nsamples = 39\\nvalue = [32, 0, 7, 0]'),\n",
              " Text(0.5116279069767442, 0.43333333333333335, 'x[4] <= 0.5\\ngini = 0.484\\nsamples = 17\\nvalue = [10, 0, 7, 0]'),\n",
              " Text(0.5, 0.36666666666666664, 'gini = 0.0\\nsamples = 9\\nvalue = [9, 0, 0, 0]'),\n",
              " Text(0.5232558139534884, 0.36666666666666664, 'x[1] <= 0.5\\ngini = 0.219\\nsamples = 8\\nvalue = [1, 0, 7, 0]'),\n",
              " Text(0.5116279069767442, 0.3, 'x[2] <= 0.5\\ngini = 0.444\\nsamples = 3\\nvalue = [1, 0, 2, 0]'),\n",
              " Text(0.5, 0.23333333333333334, 'gini = 0.0\\nsamples = 1\\nvalue = [0, 0, 1, 0]'),\n",
              " Text(0.5232558139534884, 0.23333333333333334, 'x[3] <= 1.5\\ngini = 0.5\\nsamples = 2\\nvalue = [1, 0, 1, 0]'),\n",
              " Text(0.5116279069767442, 0.16666666666666666, 'gini = 0.0\\nsamples = 1\\nvalue = [0, 0, 1, 0]'),\n",
              " Text(0.5348837209302325, 0.16666666666666666, 'gini = 0.0\\nsamples = 1\\nvalue = [1, 0, 0, 0]'),\n",
              " Text(0.5348837209302325, 0.3, 'gini = 0.0\\nsamples = 5\\nvalue = [0, 0, 5, 0]'),\n",
              " Text(0.5348837209302325, 0.43333333333333335, 'gini = 0.0\\nsamples = 22\\nvalue = [22, 0, 0, 0]'),\n",
              " Text(0.5465116279069767, 0.5, 'gini = 0.0\\nsamples = 13\\nvalue = [0, 0, 13, 0]'),\n",
              " Text(0.6947674418604651, 0.5666666666666667, 'x[1] <= 2.5\\ngini = 0.495\\nsamples = 103\\nvalue = [66.0, 31.0, 6.0, 0.0]'),\n",
              " Text(0.622093023255814, 0.5, 'x[1] <= 0.5\\ngini = 0.513\\nsamples = 76\\nvalue = [43, 31, 2, 0]'),\n",
              " Text(0.5813953488372093, 0.43333333333333335, 'x[2] <= 0.5\\ngini = 0.159\\nsamples = 23\\nvalue = [21, 0, 2, 0]'),\n",
              " Text(0.5697674418604651, 0.36666666666666664, 'x[0] <= 1.5\\ngini = 0.408\\nsamples = 7\\nvalue = [5, 0, 2, 0]'),\n",
              " Text(0.5581395348837209, 0.3, 'gini = 0.0\\nsamples = 3\\nvalue = [3, 0, 0, 0]'),\n",
              " Text(0.5813953488372093, 0.3, 'x[4] <= 0.5\\ngini = 0.5\\nsamples = 4\\nvalue = [2, 0, 2, 0]'),\n",
              " Text(0.5697674418604651, 0.23333333333333334, 'gini = 0.0\\nsamples = 2\\nvalue = [2, 0, 0, 0]'),\n",
              " Text(0.5930232558139535, 0.23333333333333334, 'gini = 0.0\\nsamples = 2\\nvalue = [0, 0, 2, 0]'),\n",
              " Text(0.5930232558139535, 0.36666666666666664, 'gini = 0.0\\nsamples = 16\\nvalue = [16, 0, 0, 0]'),\n",
              " Text(0.6627906976744186, 0.43333333333333335, 'x[1] <= 1.5\\ngini = 0.486\\nsamples = 53\\nvalue = [22, 31, 0, 0]'),\n",
              " Text(0.6162790697674418, 0.36666666666666664, 'x[4] <= 0.5\\ngini = 0.32\\nsamples = 25\\nvalue = [5, 20, 0, 0]'),\n",
              " Text(0.6046511627906976, 0.3, 'gini = 0.0\\nsamples = 13\\nvalue = [0, 13, 0, 0]'),\n",
              " Text(0.627906976744186, 0.3, 'x[2] <= 0.5\\ngini = 0.486\\nsamples = 12\\nvalue = [5, 7, 0, 0]'),\n",
              " Text(0.6162790697674418, 0.23333333333333334, 'gini = 0.0\\nsamples = 4\\nvalue = [4, 0, 0, 0]'),\n",
              " Text(0.6395348837209303, 0.23333333333333334, 'x[3] <= 1.5\\ngini = 0.219\\nsamples = 8\\nvalue = [1, 7, 0, 0]'),\n",
              " Text(0.627906976744186, 0.16666666666666666, 'x[2] <= 1.5\\ngini = 0.444\\nsamples = 3\\nvalue = [1, 2, 0, 0]'),\n",
              " Text(0.6162790697674418, 0.1, 'gini = 0.0\\nsamples = 1\\nvalue = [1, 0, 0, 0]'),\n",
              " Text(0.6395348837209303, 0.1, 'gini = 0.0\\nsamples = 2\\nvalue = [0, 2, 0, 0]'),\n",
              " Text(0.6511627906976745, 0.16666666666666666, 'gini = 0.0\\nsamples = 5\\nvalue = [0, 5, 0, 0]'),\n",
              " Text(0.7093023255813954, 0.36666666666666664, 'x[0] <= 1.5\\ngini = 0.477\\nsamples = 28\\nvalue = [17, 11, 0, 0]'),\n",
              " Text(0.6976744186046512, 0.3, 'x[2] <= 1.5\\ngini = 0.337\\nsamples = 14\\nvalue = [3, 11, 0, 0]'),\n",
              " Text(0.686046511627907, 0.23333333333333334, 'x[4] <= 0.5\\ngini = 0.49\\nsamples = 7\\nvalue = [3, 4, 0, 0]'),\n",
              " Text(0.6744186046511628, 0.16666666666666666, 'gini = 0.0\\nsamples = 3\\nvalue = [0, 3, 0, 0]'),\n",
              " Text(0.6976744186046512, 0.16666666666666666, 'x[3] <= 1.5\\ngini = 0.375\\nsamples = 4\\nvalue = [3, 1, 0, 0]'),\n",
              " Text(0.686046511627907, 0.1, 'gini = 0.0\\nsamples = 2\\nvalue = [2, 0, 0, 0]'),\n",
              " Text(0.7093023255813954, 0.1, 'x[2] <= 0.5\\ngini = 0.5\\nsamples = 2\\nvalue = [1, 1, 0, 0]'),\n",
              " Text(0.6976744186046512, 0.03333333333333333, 'gini = 0.0\\nsamples = 1\\nvalue = [1, 0, 0, 0]'),\n",
              " Text(0.7209302325581395, 0.03333333333333333, 'gini = 0.0\\nsamples = 1\\nvalue = [0, 1, 0, 0]'),\n",
              " Text(0.7093023255813954, 0.23333333333333334, 'gini = 0.0\\nsamples = 7\\nvalue = [0, 7, 0, 0]'),\n",
              " Text(0.7209302325581395, 0.3, 'gini = 0.0\\nsamples = 14\\nvalue = [14, 0, 0, 0]'),\n",
              " Text(0.7674418604651163, 0.5, 'x[2] <= 0.5\\ngini = 0.252\\nsamples = 27\\nvalue = [23, 0, 4, 0]'),\n",
              " Text(0.7441860465116279, 0.43333333333333335, 'x[4] <= 0.5\\ngini = 0.49\\nsamples = 7\\nvalue = [4, 0, 3, 0]'),\n",
              " Text(0.7325581395348837, 0.36666666666666664, 'gini = 0.0\\nsamples = 4\\nvalue = [4, 0, 0, 0]'),\n",
              " Text(0.7558139534883721, 0.36666666666666664, 'gini = 0.0\\nsamples = 3\\nvalue = [0, 0, 3, 0]'),\n",
              " Text(0.7906976744186046, 0.43333333333333335, 'x[2] <= 1.5\\ngini = 0.095\\nsamples = 20\\nvalue = [19, 0, 1, 0]'),\n",
              " Text(0.7790697674418605, 0.36666666666666664, 'x[0] <= 1.5\\ngini = 0.278\\nsamples = 6\\nvalue = [5, 0, 1, 0]'),\n",
              " Text(0.7674418604651163, 0.3, 'gini = 0.0\\nsamples = 3\\nvalue = [3, 0, 0, 0]'),\n",
              " Text(0.7906976744186046, 0.3, 'x[4] <= 0.5\\ngini = 0.444\\nsamples = 3\\nvalue = [2, 0, 1, 0]'),\n",
              " Text(0.7790697674418605, 0.23333333333333334, 'gini = 0.0\\nsamples = 1\\nvalue = [1, 0, 0, 0]'),\n",
              " Text(0.8023255813953488, 0.23333333333333334, 'x[3] <= 1.5\\ngini = 0.5\\nsamples = 2\\nvalue = [1, 0, 1, 0]'),\n",
              " Text(0.7906976744186046, 0.16666666666666666, 'gini = 0.0\\nsamples = 1\\nvalue = [0, 0, 1, 0]'),\n",
              " Text(0.813953488372093, 0.16666666666666666, 'gini = 0.0\\nsamples = 1\\nvalue = [1, 0, 0, 0]'),\n",
              " Text(0.8023255813953488, 0.36666666666666664, 'gini = 0.0\\nsamples = 14\\nvalue = [14, 0, 0, 0]'),\n",
              " Text(0.8604651162790697, 0.6333333333333333, 'x[1] <= 2.5\\ngini = 0.484\\nsamples = 56\\nvalue = [23, 0, 33, 0]'),\n",
              " Text(0.8488372093023255, 0.5666666666666667, 'x[1] <= 0.5\\ngini = 0.489\\nsamples = 40\\nvalue = [23, 0, 17, 0]'),\n",
              " Text(0.8372093023255814, 0.5, 'gini = 0.0\\nsamples = 12\\nvalue = [0, 0, 12, 0]'),\n",
              " Text(0.8604651162790697, 0.5, 'x[2] <= 0.5\\ngini = 0.293\\nsamples = 28\\nvalue = [23, 0, 5, 0]'),\n",
              " Text(0.8372093023255814, 0.43333333333333335, 'x[4] <= 0.5\\ngini = 0.49\\nsamples = 7\\nvalue = [3, 0, 4, 0]'),\n",
              " Text(0.8255813953488372, 0.36666666666666664, 'gini = 0.0\\nsamples = 3\\nvalue = [3, 0, 0, 0]'),\n",
              " Text(0.8488372093023255, 0.36666666666666664, 'gini = 0.0\\nsamples = 4\\nvalue = [0, 0, 4, 0]'),\n",
              " Text(0.8837209302325582, 0.43333333333333335, 'x[2] <= 1.5\\ngini = 0.091\\nsamples = 21\\nvalue = [20, 0, 1, 0]'),\n",
              " Text(0.872093023255814, 0.36666666666666664, 'x[3] <= 1.5\\ngini = 0.278\\nsamples = 6\\nvalue = [5, 0, 1, 0]'),\n",
              " Text(0.8604651162790697, 0.3, 'x[4] <= 0.5\\ngini = 0.5\\nsamples = 2\\nvalue = [1, 0, 1, 0]'),\n",
              " Text(0.8488372093023255, 0.23333333333333334, 'gini = 0.0\\nsamples = 1\\nvalue = [1, 0, 0, 0]'),\n",
              " Text(0.872093023255814, 0.23333333333333334, 'gini = 0.0\\nsamples = 1\\nvalue = [0, 0, 1, 0]'),\n",
              " Text(0.8837209302325582, 0.3, 'gini = 0.0\\nsamples = 4\\nvalue = [4, 0, 0, 0]'),\n",
              " Text(0.8953488372093024, 0.36666666666666664, 'gini = 0.0\\nsamples = 15\\nvalue = [15, 0, 0, 0]'),\n",
              " Text(0.872093023255814, 0.5666666666666667, 'gini = 0.0\\nsamples = 16\\nvalue = [0, 0, 16, 0]'),\n",
              " Text(0.9651162790697675, 0.7, 'x[1] <= 2.5\\ngini = 0.365\\nsamples = 100\\nvalue = [24, 0, 76, 0]'),\n",
              " Text(0.9534883720930233, 0.6333333333333333, 'x[0] <= 2.5\\ngini = 0.444\\nsamples = 72\\nvalue = [24, 0, 48, 0]'),\n",
              " Text(0.9418604651162791, 0.5666666666666667, 'x[0] <= 0.5\\ngini = 0.497\\nsamples = 52\\nvalue = [24, 0, 28, 0]'),\n",
              " Text(0.9302325581395349, 0.5, 'gini = 0.0\\nsamples = 16\\nvalue = [0, 0, 16, 0]'),\n",
              " Text(0.9534883720930233, 0.5, 'x[1] <= 0.5\\ngini = 0.444\\nsamples = 36\\nvalue = [24, 0, 12, 0]'),\n",
              " Text(0.9302325581395349, 0.43333333333333335, 'x[0] <= 1.5\\ngini = 0.444\\nsamples = 12\\nvalue = [4, 0, 8, 0]'),\n",
              " Text(0.9186046511627907, 0.36666666666666664, 'x[2] <= 0.5\\ngini = 0.32\\nsamples = 5\\nvalue = [4, 0, 1, 0]'),\n",
              " Text(0.9069767441860465, 0.3, 'x[3] <= 1.5\\ngini = 0.5\\nsamples = 2\\nvalue = [1, 0, 1, 0]'),\n",
              " Text(0.8953488372093024, 0.23333333333333334, 'gini = 0.0\\nsamples = 1\\nvalue = [1, 0, 0, 0]'),\n",
              " Text(0.9186046511627907, 0.23333333333333334, 'gini = 0.0\\nsamples = 1\\nvalue = [0, 0, 1, 0]'),\n",
              " Text(0.9302325581395349, 0.3, 'gini = 0.0\\nsamples = 3\\nvalue = [3, 0, 0, 0]'),\n",
              " Text(0.9418604651162791, 0.36666666666666664, 'gini = 0.0\\nsamples = 7\\nvalue = [0, 0, 7, 0]'),\n",
              " Text(0.9767441860465116, 0.43333333333333335, 'x[2] <= 0.5\\ngini = 0.278\\nsamples = 24\\nvalue = [20, 0, 4, 0]'),\n",
              " Text(0.9651162790697675, 0.36666666666666664, 'x[3] <= 1.5\\ngini = 0.5\\nsamples = 8\\nvalue = [4, 0, 4, 0]'),\n",
              " Text(0.9534883720930233, 0.3, 'gini = 0.0\\nsamples = 4\\nvalue = [4, 0, 0, 0]'),\n",
              " Text(0.9767441860465116, 0.3, 'gini = 0.0\\nsamples = 4\\nvalue = [0, 0, 4, 0]'),\n",
              " Text(0.9883720930232558, 0.36666666666666664, 'gini = 0.0\\nsamples = 16\\nvalue = [16, 0, 0, 0]'),\n",
              " Text(0.9651162790697675, 0.5666666666666667, 'gini = 0.0\\nsamples = 20\\nvalue = [0, 0, 20, 0]'),\n",
              " Text(0.9767441860465116, 0.6333333333333333, 'gini = 0.0\\nsamples = 28\\nvalue = [0, 0, 28, 0]')]"
            ]
          },
          "execution_count": 71,
          "metadata": {},
          "output_type": "execute_result"
        },
        {
          "data": {
            "image/png": "[encoded data removed]",
            "text/plain": [
              "<Figure size 1600x800 with 1 Axes>"
            ]
          },
          "metadata": {},
          "output_type": "display_data"
        }
      ],
      "source": [
        "plt.figure(figsize=(16,8))\n",
        "\n",
        "from sklearn import tree\n",
        "\n",
        "\n",
        "tree.plot_tree(model.fit(x_train, y_train))"
      ]
    },
    {
      "cell_type": "markdown",
      "metadata": {
        "id": "jSNwG_Ocu9sy"
      },
      "source": [
        "# Model Evaluation"
      ]
    },
    {
      "cell_type": "code",
      "execution_count": null,
      "metadata": {
        "id": "cX-xI99lu9sy"
      },
      "outputs": [],
      "source": [
        "y_pred = model.predict(x_test)"
      ]
    },
    {
      "cell_type": "code",
      "execution_count": null,
      "metadata": {
        "id": "L3ILuqTxu9sy",
        "outputId": "ed8f63d3-da97-4850-a31d-700e10b05468"
      },
      "outputs": [
        {
          "name": "stdout",
          "output_type": "stream",
          "text": [
            "Confusion matrix\n",
            "\n",
            " [[ 75   0   3   0]\n",
            " [  0  10   0   0]\n",
            " [  1   1 244   0]\n",
            " [  0   0   0  12]]\n"
          ]
        }
      ],
      "source": [
        "# Print the Confusion Matrix and slice it into four pieces\n",
        "\n",
        "from sklearn.metrics import confusion_matrix\n",
        "\n",
        "cm = confusion_matrix(y_test, y_pred)\n",
        "\n",
        "print('Confusion matrix\\n\\n', cm)\n",
        "\n"
      ]
    },
    {
      "cell_type": "code",
      "execution_count": null,
      "metadata": {
        "id": "va-TXm_Lu9sz",
        "outputId": "47421622-b82c-4024-a115-4aeae9dceba7"
      },
      "outputs": [
        {
          "data": {
            "image/png": "[encoded data removed]",
            "text/plain": [
              "<Figure size 1200x800 with 2 Axes>"
            ]
          },
          "metadata": {},
          "output_type": "display_data"
        }
      ],
      "source": [
        "plt.figure(figsize=(12,8))\n",
        "sn.heatmap(cm,annot=True)\n",
        "plt.show()"
      ]
    },
    {
      "cell_type": "markdown",
      "metadata": {
        "id": "YR3BdFmzu9sz"
      },
      "source": [
        "# Exercise"
      ]
    },
    {
      "cell_type": "raw",
      "metadata": {
        "id": "pFzVy04-u9sz"
      },
      "source": [
        "Here you have a data of the patients who received different drugs for same diseases\n",
        "CSV File with data from different patients who received a treatment for the same disease.\n",
        "The differents drugs can be A B C X or Y. You have to build a model using Decision tree with evaluation metrics and parameter tuning"
      ]
    }
  ],
  "metadata": {
    "kernelspec": {
      "display_name": "Python 3 (ipykernel)",
      "language": "python",
      "name": "python3"
    },
    "language_info": {
      "codemirror_mode": {
        "name": "ipython",
        "version": 3
      },
      "file_extension": ".py",
      "mimetype": "text/x-python",
      "name": "python",
      "nbconvert_exporter": "python",
      "pygments_lexer": "ipython3",
      "version": "3.12.4"
    },
    "colab": {
      "provenance": []
    }
  },
  "nbformat": 4,
  "nbformat_minor": 0
}