{
  "nbformat": 4,
  "nbformat_minor": 0,
  "metadata": {
    "colab": {
      "provenance": []
    },
    "kernelspec": {
      "name": "python3",
      "display_name": "Python 3"
    },
    "language_info": {
      "name": "python"
    }
  },
  "cells": [
    {
      "cell_type": "markdown",
      "source": [
        "#Lable Encoding\n"
      ],
      "metadata": {
        "id": "LZ7westyWY_v"
      }
    },
    {
      "cell_type": "code",
      "execution_count": 12,
      "metadata": {
        "colab": {
          "base_uri": "https://localhost:8080/"
        },
        "id": "tSv1W-KQWW_3",
        "outputId": "bff943cf-5b2d-43ca-9055-aab3b580599b"
      },
      "outputs": [
        {
          "output_type": "stream",
          "name": "stdout",
          "text": [
            "Original Data:\n",
            "                town  area   price\n",
            "0   monroe township  2600  550000\n",
            "1   monroe township  3000  565000\n",
            "2   monroe township  3200  610000\n",
            "3   monroe township  3600  680000\n",
            "4   monroe township  4000  725000\n",
            "5      west windsor  2600  585000\n",
            "6      west windsor  2800  615000\n",
            "7      west windsor  3300  650000\n",
            "8      west windsor  3600  710000\n",
            "9       robinsville  2600  575000\n",
            "10      robinsville  2900  600000\n",
            "11      robinsville  3100  620000\n",
            "12      robinsville  3600  695000\n",
            "\n",
            "Column Names:\n",
            "Index(['town', 'area', 'price'], dtype='object')\n",
            "Encoded 'town'\n",
            "\n",
            "Label Encoded Data:\n",
            "     town  area   price\n",
            "0      0  2600  550000\n",
            "1      0  3000  565000\n",
            "2      0  3200  610000\n",
            "3      0  3600  680000\n",
            "4      0  4000  725000\n",
            "5      2  2600  585000\n",
            "6      2  2800  615000\n",
            "7      2  3300  650000\n",
            "8      2  3600  710000\n",
            "9      1  2600  575000\n",
            "10     1  2900  600000\n",
            "11     1  3100  620000\n",
            "12     1  3600  695000\n"
          ]
        }
      ],
      "source": [
        "import pandas as pd\n",
        "from sklearn.preprocessing import LabelEncoder\n",
        "\n",
        "# Step 1: Load the CSV file\n",
        "df = pd.read_csv(\"homeprices.csv\")\n",
        "\n",
        "# Step 2: Show original data\n",
        "print(\"Original Data:\\n\", df)\n",
        "\n",
        "# Step 3: Print column names\n",
        "print(\"\\nColumn Names:\")\n",
        "print(df.columns)\n",
        "\n",
        "# Step 4: Create LabelEncoder instance\n",
        "le = LabelEncoder()\n",
        "\n",
        "# Step 5: Automatically detect and encode object (categorical) columns\n",
        "for column in df.columns:\n",
        "    if df[column].dtype == 'object':\n",
        "        df[column] = le.fit_transform(df[column])\n",
        "        print(f\"Encoded '{column}'\")\n",
        "\n",
        "# Step 6: Display final DataFrame\n",
        "print(\"\\nLabel Encoded Data:\\n\", df)\n"
      ]
    },
    {
      "cell_type": "code",
      "source": [],
      "metadata": {
        "id": "orDCjopiWfWm"
      },
      "execution_count": 13,
      "outputs": []
    },
    {
      "cell_type": "markdown",
      "source": [],
      "metadata": {
        "id": "E-7yVE5qWXp6"
      }
    }
  ]
}